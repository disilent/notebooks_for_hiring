{
  "nbformat": 4,
  "nbformat_minor": 0,
  "metadata": {
    "colab": {
      "provenance": []
    },
    "kernelspec": {
      "name": "python3",
      "display_name": "Python 3"
    },
    "language_info": {
      "name": "python"
    },
    "accelerator": "GPU",
    "gpuClass": "standard",
    "widgets": {
      "application/vnd.jupyter.widget-state+json": {
        "55497eeee66f4029b19d736a42b6b390": {
          "model_module": "@jupyter-widgets/controls",
          "model_name": "HBoxModel",
          "model_module_version": "1.5.0",
          "state": {
            "_dom_classes": [],
            "_model_module": "@jupyter-widgets/controls",
            "_model_module_version": "1.5.0",
            "_model_name": "HBoxModel",
            "_view_count": null,
            "_view_module": "@jupyter-widgets/controls",
            "_view_module_version": "1.5.0",
            "_view_name": "HBoxView",
            "box_style": "",
            "children": [
              "IPY_MODEL_ca35ca38e12b441d84480533a5cd9eb9",
              "IPY_MODEL_865be2c47dae499e8050eee7f5fa5ea2",
              "IPY_MODEL_64cebabb648d4109accc6b596e7f1867"
            ],
            "layout": "IPY_MODEL_46507cbb41b14ed6bea99e41b97aed08"
          }
        },
        "ca35ca38e12b441d84480533a5cd9eb9": {
          "model_module": "@jupyter-widgets/controls",
          "model_name": "HTMLModel",
          "model_module_version": "1.5.0",
          "state": {
            "_dom_classes": [],
            "_model_module": "@jupyter-widgets/controls",
            "_model_module_version": "1.5.0",
            "_model_name": "HTMLModel",
            "_view_count": null,
            "_view_module": "@jupyter-widgets/controls",
            "_view_module_version": "1.5.0",
            "_view_name": "HTMLView",
            "description": "",
            "description_tooltip": null,
            "layout": "IPY_MODEL_bbe7b2fef6f24cabb8e0589a2a9d18ce",
            "placeholder": "​",
            "style": "IPY_MODEL_7f4c65c86f744937b4ef34ba3ba4489f",
            "value": "100%"
          }
        },
        "865be2c47dae499e8050eee7f5fa5ea2": {
          "model_module": "@jupyter-widgets/controls",
          "model_name": "FloatProgressModel",
          "model_module_version": "1.5.0",
          "state": {
            "_dom_classes": [],
            "_model_module": "@jupyter-widgets/controls",
            "_model_module_version": "1.5.0",
            "_model_name": "FloatProgressModel",
            "_view_count": null,
            "_view_module": "@jupyter-widgets/controls",
            "_view_module_version": "1.5.0",
            "_view_name": "ProgressView",
            "bar_style": "success",
            "description": "",
            "description_tooltip": null,
            "layout": "IPY_MODEL_f3b24b86db37411eaa2e12d1bd629376",
            "max": 9912422,
            "min": 0,
            "orientation": "horizontal",
            "style": "IPY_MODEL_cca7468879874fba9bc714e67bbf8638",
            "value": 9912422
          }
        },
        "64cebabb648d4109accc6b596e7f1867": {
          "model_module": "@jupyter-widgets/controls",
          "model_name": "HTMLModel",
          "model_module_version": "1.5.0",
          "state": {
            "_dom_classes": [],
            "_model_module": "@jupyter-widgets/controls",
            "_model_module_version": "1.5.0",
            "_model_name": "HTMLModel",
            "_view_count": null,
            "_view_module": "@jupyter-widgets/controls",
            "_view_module_version": "1.5.0",
            "_view_name": "HTMLView",
            "description": "",
            "description_tooltip": null,
            "layout": "IPY_MODEL_80cefee014c7494db798d06a09281f15",
            "placeholder": "​",
            "style": "IPY_MODEL_1e7343eb02ca467087858f6593cc5639",
            "value": " 9912422/9912422 [00:00&lt;00:00, 31750471.53it/s]"
          }
        },
        "46507cbb41b14ed6bea99e41b97aed08": {
          "model_module": "@jupyter-widgets/base",
          "model_name": "LayoutModel",
          "model_module_version": "1.2.0",
          "state": {
            "_model_module": "@jupyter-widgets/base",
            "_model_module_version": "1.2.0",
            "_model_name": "LayoutModel",
            "_view_count": null,
            "_view_module": "@jupyter-widgets/base",
            "_view_module_version": "1.2.0",
            "_view_name": "LayoutView",
            "align_content": null,
            "align_items": null,
            "align_self": null,
            "border": null,
            "bottom": null,
            "display": null,
            "flex": null,
            "flex_flow": null,
            "grid_area": null,
            "grid_auto_columns": null,
            "grid_auto_flow": null,
            "grid_auto_rows": null,
            "grid_column": null,
            "grid_gap": null,
            "grid_row": null,
            "grid_template_areas": null,
            "grid_template_columns": null,
            "grid_template_rows": null,
            "height": null,
            "justify_content": null,
            "justify_items": null,
            "left": null,
            "margin": null,
            "max_height": null,
            "max_width": null,
            "min_height": null,
            "min_width": null,
            "object_fit": null,
            "object_position": null,
            "order": null,
            "overflow": null,
            "overflow_x": null,
            "overflow_y": null,
            "padding": null,
            "right": null,
            "top": null,
            "visibility": null,
            "width": null
          }
        },
        "bbe7b2fef6f24cabb8e0589a2a9d18ce": {
          "model_module": "@jupyter-widgets/base",
          "model_name": "LayoutModel",
          "model_module_version": "1.2.0",
          "state": {
            "_model_module": "@jupyter-widgets/base",
            "_model_module_version": "1.2.0",
            "_model_name": "LayoutModel",
            "_view_count": null,
            "_view_module": "@jupyter-widgets/base",
            "_view_module_version": "1.2.0",
            "_view_name": "LayoutView",
            "align_content": null,
            "align_items": null,
            "align_self": null,
            "border": null,
            "bottom": null,
            "display": null,
            "flex": null,
            "flex_flow": null,
            "grid_area": null,
            "grid_auto_columns": null,
            "grid_auto_flow": null,
            "grid_auto_rows": null,
            "grid_column": null,
            "grid_gap": null,
            "grid_row": null,
            "grid_template_areas": null,
            "grid_template_columns": null,
            "grid_template_rows": null,
            "height": null,
            "justify_content": null,
            "justify_items": null,
            "left": null,
            "margin": null,
            "max_height": null,
            "max_width": null,
            "min_height": null,
            "min_width": null,
            "object_fit": null,
            "object_position": null,
            "order": null,
            "overflow": null,
            "overflow_x": null,
            "overflow_y": null,
            "padding": null,
            "right": null,
            "top": null,
            "visibility": null,
            "width": null
          }
        },
        "7f4c65c86f744937b4ef34ba3ba4489f": {
          "model_module": "@jupyter-widgets/controls",
          "model_name": "DescriptionStyleModel",
          "model_module_version": "1.5.0",
          "state": {
            "_model_module": "@jupyter-widgets/controls",
            "_model_module_version": "1.5.0",
            "_model_name": "DescriptionStyleModel",
            "_view_count": null,
            "_view_module": "@jupyter-widgets/base",
            "_view_module_version": "1.2.0",
            "_view_name": "StyleView",
            "description_width": ""
          }
        },
        "f3b24b86db37411eaa2e12d1bd629376": {
          "model_module": "@jupyter-widgets/base",
          "model_name": "LayoutModel",
          "model_module_version": "1.2.0",
          "state": {
            "_model_module": "@jupyter-widgets/base",
            "_model_module_version": "1.2.0",
            "_model_name": "LayoutModel",
            "_view_count": null,
            "_view_module": "@jupyter-widgets/base",
            "_view_module_version": "1.2.0",
            "_view_name": "LayoutView",
            "align_content": null,
            "align_items": null,
            "align_self": null,
            "border": null,
            "bottom": null,
            "display": null,
            "flex": null,
            "flex_flow": null,
            "grid_area": null,
            "grid_auto_columns": null,
            "grid_auto_flow": null,
            "grid_auto_rows": null,
            "grid_column": null,
            "grid_gap": null,
            "grid_row": null,
            "grid_template_areas": null,
            "grid_template_columns": null,
            "grid_template_rows": null,
            "height": null,
            "justify_content": null,
            "justify_items": null,
            "left": null,
            "margin": null,
            "max_height": null,
            "max_width": null,
            "min_height": null,
            "min_width": null,
            "object_fit": null,
            "object_position": null,
            "order": null,
            "overflow": null,
            "overflow_x": null,
            "overflow_y": null,
            "padding": null,
            "right": null,
            "top": null,
            "visibility": null,
            "width": null
          }
        },
        "cca7468879874fba9bc714e67bbf8638": {
          "model_module": "@jupyter-widgets/controls",
          "model_name": "ProgressStyleModel",
          "model_module_version": "1.5.0",
          "state": {
            "_model_module": "@jupyter-widgets/controls",
            "_model_module_version": "1.5.0",
            "_model_name": "ProgressStyleModel",
            "_view_count": null,
            "_view_module": "@jupyter-widgets/base",
            "_view_module_version": "1.2.0",
            "_view_name": "StyleView",
            "bar_color": null,
            "description_width": ""
          }
        },
        "80cefee014c7494db798d06a09281f15": {
          "model_module": "@jupyter-widgets/base",
          "model_name": "LayoutModel",
          "model_module_version": "1.2.0",
          "state": {
            "_model_module": "@jupyter-widgets/base",
            "_model_module_version": "1.2.0",
            "_model_name": "LayoutModel",
            "_view_count": null,
            "_view_module": "@jupyter-widgets/base",
            "_view_module_version": "1.2.0",
            "_view_name": "LayoutView",
            "align_content": null,
            "align_items": null,
            "align_self": null,
            "border": null,
            "bottom": null,
            "display": null,
            "flex": null,
            "flex_flow": null,
            "grid_area": null,
            "grid_auto_columns": null,
            "grid_auto_flow": null,
            "grid_auto_rows": null,
            "grid_column": null,
            "grid_gap": null,
            "grid_row": null,
            "grid_template_areas": null,
            "grid_template_columns": null,
            "grid_template_rows": null,
            "height": null,
            "justify_content": null,
            "justify_items": null,
            "left": null,
            "margin": null,
            "max_height": null,
            "max_width": null,
            "min_height": null,
            "min_width": null,
            "object_fit": null,
            "object_position": null,
            "order": null,
            "overflow": null,
            "overflow_x": null,
            "overflow_y": null,
            "padding": null,
            "right": null,
            "top": null,
            "visibility": null,
            "width": null
          }
        },
        "1e7343eb02ca467087858f6593cc5639": {
          "model_module": "@jupyter-widgets/controls",
          "model_name": "DescriptionStyleModel",
          "model_module_version": "1.5.0",
          "state": {
            "_model_module": "@jupyter-widgets/controls",
            "_model_module_version": "1.5.0",
            "_model_name": "DescriptionStyleModel",
            "_view_count": null,
            "_view_module": "@jupyter-widgets/base",
            "_view_module_version": "1.2.0",
            "_view_name": "StyleView",
            "description_width": ""
          }
        },
        "6e4a5630d41b45f3bafb42e6a0992b87": {
          "model_module": "@jupyter-widgets/controls",
          "model_name": "HBoxModel",
          "model_module_version": "1.5.0",
          "state": {
            "_dom_classes": [],
            "_model_module": "@jupyter-widgets/controls",
            "_model_module_version": "1.5.0",
            "_model_name": "HBoxModel",
            "_view_count": null,
            "_view_module": "@jupyter-widgets/controls",
            "_view_module_version": "1.5.0",
            "_view_name": "HBoxView",
            "box_style": "",
            "children": [
              "IPY_MODEL_d5a5b6e47a5b4d90a8a6c174a28ee5c0",
              "IPY_MODEL_bc7b0a95153f477fbbefc8216ccf7fb1",
              "IPY_MODEL_86096a720ae54027bc1b1a0c964e2600"
            ],
            "layout": "IPY_MODEL_e2c5c2fa97b3452baeec7c9580891c99"
          }
        },
        "d5a5b6e47a5b4d90a8a6c174a28ee5c0": {
          "model_module": "@jupyter-widgets/controls",
          "model_name": "HTMLModel",
          "model_module_version": "1.5.0",
          "state": {
            "_dom_classes": [],
            "_model_module": "@jupyter-widgets/controls",
            "_model_module_version": "1.5.0",
            "_model_name": "HTMLModel",
            "_view_count": null,
            "_view_module": "@jupyter-widgets/controls",
            "_view_module_version": "1.5.0",
            "_view_name": "HTMLView",
            "description": "",
            "description_tooltip": null,
            "layout": "IPY_MODEL_ef6ebb27e9694704af1cb3a8cfc52cec",
            "placeholder": "​",
            "style": "IPY_MODEL_3793eb0dabb740d38846f4a133e82f2d",
            "value": "100%"
          }
        },
        "bc7b0a95153f477fbbefc8216ccf7fb1": {
          "model_module": "@jupyter-widgets/controls",
          "model_name": "FloatProgressModel",
          "model_module_version": "1.5.0",
          "state": {
            "_dom_classes": [],
            "_model_module": "@jupyter-widgets/controls",
            "_model_module_version": "1.5.0",
            "_model_name": "FloatProgressModel",
            "_view_count": null,
            "_view_module": "@jupyter-widgets/controls",
            "_view_module_version": "1.5.0",
            "_view_name": "ProgressView",
            "bar_style": "success",
            "description": "",
            "description_tooltip": null,
            "layout": "IPY_MODEL_b1372741931a4157a563c4ef786a0ce2",
            "max": 28881,
            "min": 0,
            "orientation": "horizontal",
            "style": "IPY_MODEL_c946943bd07e44d1bf62eb1ba1126e73",
            "value": 28881
          }
        },
        "86096a720ae54027bc1b1a0c964e2600": {
          "model_module": "@jupyter-widgets/controls",
          "model_name": "HTMLModel",
          "model_module_version": "1.5.0",
          "state": {
            "_dom_classes": [],
            "_model_module": "@jupyter-widgets/controls",
            "_model_module_version": "1.5.0",
            "_model_name": "HTMLModel",
            "_view_count": null,
            "_view_module": "@jupyter-widgets/controls",
            "_view_module_version": "1.5.0",
            "_view_name": "HTMLView",
            "description": "",
            "description_tooltip": null,
            "layout": "IPY_MODEL_a503523ecb564398b8a3b5dbe7101e6a",
            "placeholder": "​",
            "style": "IPY_MODEL_1b8ca17d40c3454890b70c2fed5773e5",
            "value": " 28881/28881 [00:00&lt;00:00, 860583.22it/s]"
          }
        },
        "e2c5c2fa97b3452baeec7c9580891c99": {
          "model_module": "@jupyter-widgets/base",
          "model_name": "LayoutModel",
          "model_module_version": "1.2.0",
          "state": {
            "_model_module": "@jupyter-widgets/base",
            "_model_module_version": "1.2.0",
            "_model_name": "LayoutModel",
            "_view_count": null,
            "_view_module": "@jupyter-widgets/base",
            "_view_module_version": "1.2.0",
            "_view_name": "LayoutView",
            "align_content": null,
            "align_items": null,
            "align_self": null,
            "border": null,
            "bottom": null,
            "display": null,
            "flex": null,
            "flex_flow": null,
            "grid_area": null,
            "grid_auto_columns": null,
            "grid_auto_flow": null,
            "grid_auto_rows": null,
            "grid_column": null,
            "grid_gap": null,
            "grid_row": null,
            "grid_template_areas": null,
            "grid_template_columns": null,
            "grid_template_rows": null,
            "height": null,
            "justify_content": null,
            "justify_items": null,
            "left": null,
            "margin": null,
            "max_height": null,
            "max_width": null,
            "min_height": null,
            "min_width": null,
            "object_fit": null,
            "object_position": null,
            "order": null,
            "overflow": null,
            "overflow_x": null,
            "overflow_y": null,
            "padding": null,
            "right": null,
            "top": null,
            "visibility": null,
            "width": null
          }
        },
        "ef6ebb27e9694704af1cb3a8cfc52cec": {
          "model_module": "@jupyter-widgets/base",
          "model_name": "LayoutModel",
          "model_module_version": "1.2.0",
          "state": {
            "_model_module": "@jupyter-widgets/base",
            "_model_module_version": "1.2.0",
            "_model_name": "LayoutModel",
            "_view_count": null,
            "_view_module": "@jupyter-widgets/base",
            "_view_module_version": "1.2.0",
            "_view_name": "LayoutView",
            "align_content": null,
            "align_items": null,
            "align_self": null,
            "border": null,
            "bottom": null,
            "display": null,
            "flex": null,
            "flex_flow": null,
            "grid_area": null,
            "grid_auto_columns": null,
            "grid_auto_flow": null,
            "grid_auto_rows": null,
            "grid_column": null,
            "grid_gap": null,
            "grid_row": null,
            "grid_template_areas": null,
            "grid_template_columns": null,
            "grid_template_rows": null,
            "height": null,
            "justify_content": null,
            "justify_items": null,
            "left": null,
            "margin": null,
            "max_height": null,
            "max_width": null,
            "min_height": null,
            "min_width": null,
            "object_fit": null,
            "object_position": null,
            "order": null,
            "overflow": null,
            "overflow_x": null,
            "overflow_y": null,
            "padding": null,
            "right": null,
            "top": null,
            "visibility": null,
            "width": null
          }
        },
        "3793eb0dabb740d38846f4a133e82f2d": {
          "model_module": "@jupyter-widgets/controls",
          "model_name": "DescriptionStyleModel",
          "model_module_version": "1.5.0",
          "state": {
            "_model_module": "@jupyter-widgets/controls",
            "_model_module_version": "1.5.0",
            "_model_name": "DescriptionStyleModel",
            "_view_count": null,
            "_view_module": "@jupyter-widgets/base",
            "_view_module_version": "1.2.0",
            "_view_name": "StyleView",
            "description_width": ""
          }
        },
        "b1372741931a4157a563c4ef786a0ce2": {
          "model_module": "@jupyter-widgets/base",
          "model_name": "LayoutModel",
          "model_module_version": "1.2.0",
          "state": {
            "_model_module": "@jupyter-widgets/base",
            "_model_module_version": "1.2.0",
            "_model_name": "LayoutModel",
            "_view_count": null,
            "_view_module": "@jupyter-widgets/base",
            "_view_module_version": "1.2.0",
            "_view_name": "LayoutView",
            "align_content": null,
            "align_items": null,
            "align_self": null,
            "border": null,
            "bottom": null,
            "display": null,
            "flex": null,
            "flex_flow": null,
            "grid_area": null,
            "grid_auto_columns": null,
            "grid_auto_flow": null,
            "grid_auto_rows": null,
            "grid_column": null,
            "grid_gap": null,
            "grid_row": null,
            "grid_template_areas": null,
            "grid_template_columns": null,
            "grid_template_rows": null,
            "height": null,
            "justify_content": null,
            "justify_items": null,
            "left": null,
            "margin": null,
            "max_height": null,
            "max_width": null,
            "min_height": null,
            "min_width": null,
            "object_fit": null,
            "object_position": null,
            "order": null,
            "overflow": null,
            "overflow_x": null,
            "overflow_y": null,
            "padding": null,
            "right": null,
            "top": null,
            "visibility": null,
            "width": null
          }
        },
        "c946943bd07e44d1bf62eb1ba1126e73": {
          "model_module": "@jupyter-widgets/controls",
          "model_name": "ProgressStyleModel",
          "model_module_version": "1.5.0",
          "state": {
            "_model_module": "@jupyter-widgets/controls",
            "_model_module_version": "1.5.0",
            "_model_name": "ProgressStyleModel",
            "_view_count": null,
            "_view_module": "@jupyter-widgets/base",
            "_view_module_version": "1.2.0",
            "_view_name": "StyleView",
            "bar_color": null,
            "description_width": ""
          }
        },
        "a503523ecb564398b8a3b5dbe7101e6a": {
          "model_module": "@jupyter-widgets/base",
          "model_name": "LayoutModel",
          "model_module_version": "1.2.0",
          "state": {
            "_model_module": "@jupyter-widgets/base",
            "_model_module_version": "1.2.0",
            "_model_name": "LayoutModel",
            "_view_count": null,
            "_view_module": "@jupyter-widgets/base",
            "_view_module_version": "1.2.0",
            "_view_name": "LayoutView",
            "align_content": null,
            "align_items": null,
            "align_self": null,
            "border": null,
            "bottom": null,
            "display": null,
            "flex": null,
            "flex_flow": null,
            "grid_area": null,
            "grid_auto_columns": null,
            "grid_auto_flow": null,
            "grid_auto_rows": null,
            "grid_column": null,
            "grid_gap": null,
            "grid_row": null,
            "grid_template_areas": null,
            "grid_template_columns": null,
            "grid_template_rows": null,
            "height": null,
            "justify_content": null,
            "justify_items": null,
            "left": null,
            "margin": null,
            "max_height": null,
            "max_width": null,
            "min_height": null,
            "min_width": null,
            "object_fit": null,
            "object_position": null,
            "order": null,
            "overflow": null,
            "overflow_x": null,
            "overflow_y": null,
            "padding": null,
            "right": null,
            "top": null,
            "visibility": null,
            "width": null
          }
        },
        "1b8ca17d40c3454890b70c2fed5773e5": {
          "model_module": "@jupyter-widgets/controls",
          "model_name": "DescriptionStyleModel",
          "model_module_version": "1.5.0",
          "state": {
            "_model_module": "@jupyter-widgets/controls",
            "_model_module_version": "1.5.0",
            "_model_name": "DescriptionStyleModel",
            "_view_count": null,
            "_view_module": "@jupyter-widgets/base",
            "_view_module_version": "1.2.0",
            "_view_name": "StyleView",
            "description_width": ""
          }
        },
        "1a7d3a26ec0d4037a7847c79dfe24afe": {
          "model_module": "@jupyter-widgets/controls",
          "model_name": "HBoxModel",
          "model_module_version": "1.5.0",
          "state": {
            "_dom_classes": [],
            "_model_module": "@jupyter-widgets/controls",
            "_model_module_version": "1.5.0",
            "_model_name": "HBoxModel",
            "_view_count": null,
            "_view_module": "@jupyter-widgets/controls",
            "_view_module_version": "1.5.0",
            "_view_name": "HBoxView",
            "box_style": "",
            "children": [
              "IPY_MODEL_c2606cfaca7f487592742c04bb7a511e",
              "IPY_MODEL_91e1ca0815af4e2cab4c051d35595450",
              "IPY_MODEL_b9c6f4968c0244909e9598b5090513e5"
            ],
            "layout": "IPY_MODEL_6276787c54b746b5b919ef2bc61315b2"
          }
        },
        "c2606cfaca7f487592742c04bb7a511e": {
          "model_module": "@jupyter-widgets/controls",
          "model_name": "HTMLModel",
          "model_module_version": "1.5.0",
          "state": {
            "_dom_classes": [],
            "_model_module": "@jupyter-widgets/controls",
            "_model_module_version": "1.5.0",
            "_model_name": "HTMLModel",
            "_view_count": null,
            "_view_module": "@jupyter-widgets/controls",
            "_view_module_version": "1.5.0",
            "_view_name": "HTMLView",
            "description": "",
            "description_tooltip": null,
            "layout": "IPY_MODEL_da3fc7638a5346b49c0e4198995bc610",
            "placeholder": "​",
            "style": "IPY_MODEL_9d03f9c4a9f54382810ff02561e98008",
            "value": "100%"
          }
        },
        "91e1ca0815af4e2cab4c051d35595450": {
          "model_module": "@jupyter-widgets/controls",
          "model_name": "FloatProgressModel",
          "model_module_version": "1.5.0",
          "state": {
            "_dom_classes": [],
            "_model_module": "@jupyter-widgets/controls",
            "_model_module_version": "1.5.0",
            "_model_name": "FloatProgressModel",
            "_view_count": null,
            "_view_module": "@jupyter-widgets/controls",
            "_view_module_version": "1.5.0",
            "_view_name": "ProgressView",
            "bar_style": "success",
            "description": "",
            "description_tooltip": null,
            "layout": "IPY_MODEL_e831731dede84568bdaaef6202373976",
            "max": 1648877,
            "min": 0,
            "orientation": "horizontal",
            "style": "IPY_MODEL_fc6682cd54a54a8f85e22f83cde4802e",
            "value": 1648877
          }
        },
        "b9c6f4968c0244909e9598b5090513e5": {
          "model_module": "@jupyter-widgets/controls",
          "model_name": "HTMLModel",
          "model_module_version": "1.5.0",
          "state": {
            "_dom_classes": [],
            "_model_module": "@jupyter-widgets/controls",
            "_model_module_version": "1.5.0",
            "_model_name": "HTMLModel",
            "_view_count": null,
            "_view_module": "@jupyter-widgets/controls",
            "_view_module_version": "1.5.0",
            "_view_name": "HTMLView",
            "description": "",
            "description_tooltip": null,
            "layout": "IPY_MODEL_7da1f1c252d8409ab07571dfc9fb4aea",
            "placeholder": "​",
            "style": "IPY_MODEL_f702b6b2caaf4827b91472412defa98b",
            "value": " 1648877/1648877 [00:00&lt;00:00, 3417998.27it/s]"
          }
        },
        "6276787c54b746b5b919ef2bc61315b2": {
          "model_module": "@jupyter-widgets/base",
          "model_name": "LayoutModel",
          "model_module_version": "1.2.0",
          "state": {
            "_model_module": "@jupyter-widgets/base",
            "_model_module_version": "1.2.0",
            "_model_name": "LayoutModel",
            "_view_count": null,
            "_view_module": "@jupyter-widgets/base",
            "_view_module_version": "1.2.0",
            "_view_name": "LayoutView",
            "align_content": null,
            "align_items": null,
            "align_self": null,
            "border": null,
            "bottom": null,
            "display": null,
            "flex": null,
            "flex_flow": null,
            "grid_area": null,
            "grid_auto_columns": null,
            "grid_auto_flow": null,
            "grid_auto_rows": null,
            "grid_column": null,
            "grid_gap": null,
            "grid_row": null,
            "grid_template_areas": null,
            "grid_template_columns": null,
            "grid_template_rows": null,
            "height": null,
            "justify_content": null,
            "justify_items": null,
            "left": null,
            "margin": null,
            "max_height": null,
            "max_width": null,
            "min_height": null,
            "min_width": null,
            "object_fit": null,
            "object_position": null,
            "order": null,
            "overflow": null,
            "overflow_x": null,
            "overflow_y": null,
            "padding": null,
            "right": null,
            "top": null,
            "visibility": null,
            "width": null
          }
        },
        "da3fc7638a5346b49c0e4198995bc610": {
          "model_module": "@jupyter-widgets/base",
          "model_name": "LayoutModel",
          "model_module_version": "1.2.0",
          "state": {
            "_model_module": "@jupyter-widgets/base",
            "_model_module_version": "1.2.0",
            "_model_name": "LayoutModel",
            "_view_count": null,
            "_view_module": "@jupyter-widgets/base",
            "_view_module_version": "1.2.0",
            "_view_name": "LayoutView",
            "align_content": null,
            "align_items": null,
            "align_self": null,
            "border": null,
            "bottom": null,
            "display": null,
            "flex": null,
            "flex_flow": null,
            "grid_area": null,
            "grid_auto_columns": null,
            "grid_auto_flow": null,
            "grid_auto_rows": null,
            "grid_column": null,
            "grid_gap": null,
            "grid_row": null,
            "grid_template_areas": null,
            "grid_template_columns": null,
            "grid_template_rows": null,
            "height": null,
            "justify_content": null,
            "justify_items": null,
            "left": null,
            "margin": null,
            "max_height": null,
            "max_width": null,
            "min_height": null,
            "min_width": null,
            "object_fit": null,
            "object_position": null,
            "order": null,
            "overflow": null,
            "overflow_x": null,
            "overflow_y": null,
            "padding": null,
            "right": null,
            "top": null,
            "visibility": null,
            "width": null
          }
        },
        "9d03f9c4a9f54382810ff02561e98008": {
          "model_module": "@jupyter-widgets/controls",
          "model_name": "DescriptionStyleModel",
          "model_module_version": "1.5.0",
          "state": {
            "_model_module": "@jupyter-widgets/controls",
            "_model_module_version": "1.5.0",
            "_model_name": "DescriptionStyleModel",
            "_view_count": null,
            "_view_module": "@jupyter-widgets/base",
            "_view_module_version": "1.2.0",
            "_view_name": "StyleView",
            "description_width": ""
          }
        },
        "e831731dede84568bdaaef6202373976": {
          "model_module": "@jupyter-widgets/base",
          "model_name": "LayoutModel",
          "model_module_version": "1.2.0",
          "state": {
            "_model_module": "@jupyter-widgets/base",
            "_model_module_version": "1.2.0",
            "_model_name": "LayoutModel",
            "_view_count": null,
            "_view_module": "@jupyter-widgets/base",
            "_view_module_version": "1.2.0",
            "_view_name": "LayoutView",
            "align_content": null,
            "align_items": null,
            "align_self": null,
            "border": null,
            "bottom": null,
            "display": null,
            "flex": null,
            "flex_flow": null,
            "grid_area": null,
            "grid_auto_columns": null,
            "grid_auto_flow": null,
            "grid_auto_rows": null,
            "grid_column": null,
            "grid_gap": null,
            "grid_row": null,
            "grid_template_areas": null,
            "grid_template_columns": null,
            "grid_template_rows": null,
            "height": null,
            "justify_content": null,
            "justify_items": null,
            "left": null,
            "margin": null,
            "max_height": null,
            "max_width": null,
            "min_height": null,
            "min_width": null,
            "object_fit": null,
            "object_position": null,
            "order": null,
            "overflow": null,
            "overflow_x": null,
            "overflow_y": null,
            "padding": null,
            "right": null,
            "top": null,
            "visibility": null,
            "width": null
          }
        },
        "fc6682cd54a54a8f85e22f83cde4802e": {
          "model_module": "@jupyter-widgets/controls",
          "model_name": "ProgressStyleModel",
          "model_module_version": "1.5.0",
          "state": {
            "_model_module": "@jupyter-widgets/controls",
            "_model_module_version": "1.5.0",
            "_model_name": "ProgressStyleModel",
            "_view_count": null,
            "_view_module": "@jupyter-widgets/base",
            "_view_module_version": "1.2.0",
            "_view_name": "StyleView",
            "bar_color": null,
            "description_width": ""
          }
        },
        "7da1f1c252d8409ab07571dfc9fb4aea": {
          "model_module": "@jupyter-widgets/base",
          "model_name": "LayoutModel",
          "model_module_version": "1.2.0",
          "state": {
            "_model_module": "@jupyter-widgets/base",
            "_model_module_version": "1.2.0",
            "_model_name": "LayoutModel",
            "_view_count": null,
            "_view_module": "@jupyter-widgets/base",
            "_view_module_version": "1.2.0",
            "_view_name": "LayoutView",
            "align_content": null,
            "align_items": null,
            "align_self": null,
            "border": null,
            "bottom": null,
            "display": null,
            "flex": null,
            "flex_flow": null,
            "grid_area": null,
            "grid_auto_columns": null,
            "grid_auto_flow": null,
            "grid_auto_rows": null,
            "grid_column": null,
            "grid_gap": null,
            "grid_row": null,
            "grid_template_areas": null,
            "grid_template_columns": null,
            "grid_template_rows": null,
            "height": null,
            "justify_content": null,
            "justify_items": null,
            "left": null,
            "margin": null,
            "max_height": null,
            "max_width": null,
            "min_height": null,
            "min_width": null,
            "object_fit": null,
            "object_position": null,
            "order": null,
            "overflow": null,
            "overflow_x": null,
            "overflow_y": null,
            "padding": null,
            "right": null,
            "top": null,
            "visibility": null,
            "width": null
          }
        },
        "f702b6b2caaf4827b91472412defa98b": {
          "model_module": "@jupyter-widgets/controls",
          "model_name": "DescriptionStyleModel",
          "model_module_version": "1.5.0",
          "state": {
            "_model_module": "@jupyter-widgets/controls",
            "_model_module_version": "1.5.0",
            "_model_name": "DescriptionStyleModel",
            "_view_count": null,
            "_view_module": "@jupyter-widgets/base",
            "_view_module_version": "1.2.0",
            "_view_name": "StyleView",
            "description_width": ""
          }
        },
        "d5cf8e8e514b428ab6e346187df73e8a": {
          "model_module": "@jupyter-widgets/controls",
          "model_name": "HBoxModel",
          "model_module_version": "1.5.0",
          "state": {
            "_dom_classes": [],
            "_model_module": "@jupyter-widgets/controls",
            "_model_module_version": "1.5.0",
            "_model_name": "HBoxModel",
            "_view_count": null,
            "_view_module": "@jupyter-widgets/controls",
            "_view_module_version": "1.5.0",
            "_view_name": "HBoxView",
            "box_style": "",
            "children": [
              "IPY_MODEL_1c37555cc0954f1fa68f0a13f3939570",
              "IPY_MODEL_e3f9b86eb09f41bd8f045d41b549baa5",
              "IPY_MODEL_129cbc91d60d42b9a16e0db93e88b8bb"
            ],
            "layout": "IPY_MODEL_9f16378967b94fd68a9870f613b2cb70"
          }
        },
        "1c37555cc0954f1fa68f0a13f3939570": {
          "model_module": "@jupyter-widgets/controls",
          "model_name": "HTMLModel",
          "model_module_version": "1.5.0",
          "state": {
            "_dom_classes": [],
            "_model_module": "@jupyter-widgets/controls",
            "_model_module_version": "1.5.0",
            "_model_name": "HTMLModel",
            "_view_count": null,
            "_view_module": "@jupyter-widgets/controls",
            "_view_module_version": "1.5.0",
            "_view_name": "HTMLView",
            "description": "",
            "description_tooltip": null,
            "layout": "IPY_MODEL_12957bf016314040a32f4bb209b66278",
            "placeholder": "​",
            "style": "IPY_MODEL_98505972c5664adab0e372b980075ea6",
            "value": "100%"
          }
        },
        "e3f9b86eb09f41bd8f045d41b549baa5": {
          "model_module": "@jupyter-widgets/controls",
          "model_name": "FloatProgressModel",
          "model_module_version": "1.5.0",
          "state": {
            "_dom_classes": [],
            "_model_module": "@jupyter-widgets/controls",
            "_model_module_version": "1.5.0",
            "_model_name": "FloatProgressModel",
            "_view_count": null,
            "_view_module": "@jupyter-widgets/controls",
            "_view_module_version": "1.5.0",
            "_view_name": "ProgressView",
            "bar_style": "success",
            "description": "",
            "description_tooltip": null,
            "layout": "IPY_MODEL_cbaeb713ca874026862e949333182beb",
            "max": 4542,
            "min": 0,
            "orientation": "horizontal",
            "style": "IPY_MODEL_382276fd12964e8b81fd11597ce215bf",
            "value": 4542
          }
        },
        "129cbc91d60d42b9a16e0db93e88b8bb": {
          "model_module": "@jupyter-widgets/controls",
          "model_name": "HTMLModel",
          "model_module_version": "1.5.0",
          "state": {
            "_dom_classes": [],
            "_model_module": "@jupyter-widgets/controls",
            "_model_module_version": "1.5.0",
            "_model_name": "HTMLModel",
            "_view_count": null,
            "_view_module": "@jupyter-widgets/controls",
            "_view_module_version": "1.5.0",
            "_view_name": "HTMLView",
            "description": "",
            "description_tooltip": null,
            "layout": "IPY_MODEL_dd7144ced1ef4395a077e6edd56437df",
            "placeholder": "​",
            "style": "IPY_MODEL_7969fbfdc6344c8fbfba45fcdbe045e1",
            "value": " 4542/4542 [00:00&lt;00:00, 138723.84it/s]"
          }
        },
        "9f16378967b94fd68a9870f613b2cb70": {
          "model_module": "@jupyter-widgets/base",
          "model_name": "LayoutModel",
          "model_module_version": "1.2.0",
          "state": {
            "_model_module": "@jupyter-widgets/base",
            "_model_module_version": "1.2.0",
            "_model_name": "LayoutModel",
            "_view_count": null,
            "_view_module": "@jupyter-widgets/base",
            "_view_module_version": "1.2.0",
            "_view_name": "LayoutView",
            "align_content": null,
            "align_items": null,
            "align_self": null,
            "border": null,
            "bottom": null,
            "display": null,
            "flex": null,
            "flex_flow": null,
            "grid_area": null,
            "grid_auto_columns": null,
            "grid_auto_flow": null,
            "grid_auto_rows": null,
            "grid_column": null,
            "grid_gap": null,
            "grid_row": null,
            "grid_template_areas": null,
            "grid_template_columns": null,
            "grid_template_rows": null,
            "height": null,
            "justify_content": null,
            "justify_items": null,
            "left": null,
            "margin": null,
            "max_height": null,
            "max_width": null,
            "min_height": null,
            "min_width": null,
            "object_fit": null,
            "object_position": null,
            "order": null,
            "overflow": null,
            "overflow_x": null,
            "overflow_y": null,
            "padding": null,
            "right": null,
            "top": null,
            "visibility": null,
            "width": null
          }
        },
        "12957bf016314040a32f4bb209b66278": {
          "model_module": "@jupyter-widgets/base",
          "model_name": "LayoutModel",
          "model_module_version": "1.2.0",
          "state": {
            "_model_module": "@jupyter-widgets/base",
            "_model_module_version": "1.2.0",
            "_model_name": "LayoutModel",
            "_view_count": null,
            "_view_module": "@jupyter-widgets/base",
            "_view_module_version": "1.2.0",
            "_view_name": "LayoutView",
            "align_content": null,
            "align_items": null,
            "align_self": null,
            "border": null,
            "bottom": null,
            "display": null,
            "flex": null,
            "flex_flow": null,
            "grid_area": null,
            "grid_auto_columns": null,
            "grid_auto_flow": null,
            "grid_auto_rows": null,
            "grid_column": null,
            "grid_gap": null,
            "grid_row": null,
            "grid_template_areas": null,
            "grid_template_columns": null,
            "grid_template_rows": null,
            "height": null,
            "justify_content": null,
            "justify_items": null,
            "left": null,
            "margin": null,
            "max_height": null,
            "max_width": null,
            "min_height": null,
            "min_width": null,
            "object_fit": null,
            "object_position": null,
            "order": null,
            "overflow": null,
            "overflow_x": null,
            "overflow_y": null,
            "padding": null,
            "right": null,
            "top": null,
            "visibility": null,
            "width": null
          }
        },
        "98505972c5664adab0e372b980075ea6": {
          "model_module": "@jupyter-widgets/controls",
          "model_name": "DescriptionStyleModel",
          "model_module_version": "1.5.0",
          "state": {
            "_model_module": "@jupyter-widgets/controls",
            "_model_module_version": "1.5.0",
            "_model_name": "DescriptionStyleModel",
            "_view_count": null,
            "_view_module": "@jupyter-widgets/base",
            "_view_module_version": "1.2.0",
            "_view_name": "StyleView",
            "description_width": ""
          }
        },
        "cbaeb713ca874026862e949333182beb": {
          "model_module": "@jupyter-widgets/base",
          "model_name": "LayoutModel",
          "model_module_version": "1.2.0",
          "state": {
            "_model_module": "@jupyter-widgets/base",
            "_model_module_version": "1.2.0",
            "_model_name": "LayoutModel",
            "_view_count": null,
            "_view_module": "@jupyter-widgets/base",
            "_view_module_version": "1.2.0",
            "_view_name": "LayoutView",
            "align_content": null,
            "align_items": null,
            "align_self": null,
            "border": null,
            "bottom": null,
            "display": null,
            "flex": null,
            "flex_flow": null,
            "grid_area": null,
            "grid_auto_columns": null,
            "grid_auto_flow": null,
            "grid_auto_rows": null,
            "grid_column": null,
            "grid_gap": null,
            "grid_row": null,
            "grid_template_areas": null,
            "grid_template_columns": null,
            "grid_template_rows": null,
            "height": null,
            "justify_content": null,
            "justify_items": null,
            "left": null,
            "margin": null,
            "max_height": null,
            "max_width": null,
            "min_height": null,
            "min_width": null,
            "object_fit": null,
            "object_position": null,
            "order": null,
            "overflow": null,
            "overflow_x": null,
            "overflow_y": null,
            "padding": null,
            "right": null,
            "top": null,
            "visibility": null,
            "width": null
          }
        },
        "382276fd12964e8b81fd11597ce215bf": {
          "model_module": "@jupyter-widgets/controls",
          "model_name": "ProgressStyleModel",
          "model_module_version": "1.5.0",
          "state": {
            "_model_module": "@jupyter-widgets/controls",
            "_model_module_version": "1.5.0",
            "_model_name": "ProgressStyleModel",
            "_view_count": null,
            "_view_module": "@jupyter-widgets/base",
            "_view_module_version": "1.2.0",
            "_view_name": "StyleView",
            "bar_color": null,
            "description_width": ""
          }
        },
        "dd7144ced1ef4395a077e6edd56437df": {
          "model_module": "@jupyter-widgets/base",
          "model_name": "LayoutModel",
          "model_module_version": "1.2.0",
          "state": {
            "_model_module": "@jupyter-widgets/base",
            "_model_module_version": "1.2.0",
            "_model_name": "LayoutModel",
            "_view_count": null,
            "_view_module": "@jupyter-widgets/base",
            "_view_module_version": "1.2.0",
            "_view_name": "LayoutView",
            "align_content": null,
            "align_items": null,
            "align_self": null,
            "border": null,
            "bottom": null,
            "display": null,
            "flex": null,
            "flex_flow": null,
            "grid_area": null,
            "grid_auto_columns": null,
            "grid_auto_flow": null,
            "grid_auto_rows": null,
            "grid_column": null,
            "grid_gap": null,
            "grid_row": null,
            "grid_template_areas": null,
            "grid_template_columns": null,
            "grid_template_rows": null,
            "height": null,
            "justify_content": null,
            "justify_items": null,
            "left": null,
            "margin": null,
            "max_height": null,
            "max_width": null,
            "min_height": null,
            "min_width": null,
            "object_fit": null,
            "object_position": null,
            "order": null,
            "overflow": null,
            "overflow_x": null,
            "overflow_y": null,
            "padding": null,
            "right": null,
            "top": null,
            "visibility": null,
            "width": null
          }
        },
        "7969fbfdc6344c8fbfba45fcdbe045e1": {
          "model_module": "@jupyter-widgets/controls",
          "model_name": "DescriptionStyleModel",
          "model_module_version": "1.5.0",
          "state": {
            "_model_module": "@jupyter-widgets/controls",
            "_model_module_version": "1.5.0",
            "_model_name": "DescriptionStyleModel",
            "_view_count": null,
            "_view_module": "@jupyter-widgets/base",
            "_view_module_version": "1.2.0",
            "_view_name": "StyleView",
            "description_width": ""
          }
        }
      }
    }
  },
  "cells": [
    {
      "cell_type": "code",
      "execution_count": null,
      "metadata": {
        "id": "wEuFQt3LOjIQ"
      },
      "outputs": [],
      "source": [
        "import torch\n",
        "import random\n",
        "import numpy as np\n",
        "\n",
        "import matplotlib\n",
        "import matplotlib.pyplot as plt\n",
        "%matplotlib inline\n",
        "\n",
        "matplotlib.rcParams['figure.figsize'] = (13., 5.)"
      ]
    },
    {
      "cell_type": "code",
      "source": [
        "random.seed(0)\n",
        "np.random.seed(0)\n",
        "torch.manual_seed(0)\n",
        "torch.cuda.manual_seed(0)\n",
        "torch.backends.cudnn.deterministic = True"
      ],
      "metadata": {
        "id": "L7FL_mrPWJma"
      },
      "execution_count": null,
      "outputs": []
    },
    {
      "cell_type": "code",
      "source": [
        "device = torch.device('cuda:0' if torch.cuda.is_available() else 'cpu')\n",
        "device"
      ],
      "metadata": {
        "id": "wLWmCE0W5jhl",
        "colab": {
          "base_uri": "https://localhost:8080/"
        },
        "outputId": "f7f5d534-5ba7-4dbf-a031-99f31e4fec0b"
      },
      "execution_count": null,
      "outputs": [
        {
          "output_type": "execute_result",
          "data": {
            "text/plain": [
              "device(type='cuda', index=0)"
            ]
          },
          "metadata": {},
          "execution_count": 3
        }
      ]
    },
    {
      "cell_type": "code",
      "source": [
        "# !nvidia-smi"
      ],
      "metadata": {
        "id": "6mnIJRsCBHwE"
      },
      "execution_count": null,
      "outputs": []
    },
    {
      "cell_type": "markdown",
      "source": [
        "## Train dataset"
      ],
      "metadata": {
        "id": "Bb0_soUM9j7d"
      }
    },
    {
      "cell_type": "code",
      "source": [
        "import torchvision.datasets\n",
        "MNIST_train = torchvision.datasets.MNIST('./', download=True, train=True)\n",
        "MNIST_test  = torchvision.datasets.MNIST('./', download=True, train=False)"
      ],
      "metadata": {
        "id": "sTQmJN7WWhfl",
        "colab": {
          "base_uri": "https://localhost:8080/",
          "height": 423,
          "referenced_widgets": [
            "55497eeee66f4029b19d736a42b6b390",
            "ca35ca38e12b441d84480533a5cd9eb9",
            "865be2c47dae499e8050eee7f5fa5ea2",
            "64cebabb648d4109accc6b596e7f1867",
            "46507cbb41b14ed6bea99e41b97aed08",
            "bbe7b2fef6f24cabb8e0589a2a9d18ce",
            "7f4c65c86f744937b4ef34ba3ba4489f",
            "f3b24b86db37411eaa2e12d1bd629376",
            "cca7468879874fba9bc714e67bbf8638",
            "80cefee014c7494db798d06a09281f15",
            "1e7343eb02ca467087858f6593cc5639",
            "6e4a5630d41b45f3bafb42e6a0992b87",
            "d5a5b6e47a5b4d90a8a6c174a28ee5c0",
            "bc7b0a95153f477fbbefc8216ccf7fb1",
            "86096a720ae54027bc1b1a0c964e2600",
            "e2c5c2fa97b3452baeec7c9580891c99",
            "ef6ebb27e9694704af1cb3a8cfc52cec",
            "3793eb0dabb740d38846f4a133e82f2d",
            "b1372741931a4157a563c4ef786a0ce2",
            "c946943bd07e44d1bf62eb1ba1126e73",
            "a503523ecb564398b8a3b5dbe7101e6a",
            "1b8ca17d40c3454890b70c2fed5773e5",
            "1a7d3a26ec0d4037a7847c79dfe24afe",
            "c2606cfaca7f487592742c04bb7a511e",
            "91e1ca0815af4e2cab4c051d35595450",
            "b9c6f4968c0244909e9598b5090513e5",
            "6276787c54b746b5b919ef2bc61315b2",
            "da3fc7638a5346b49c0e4198995bc610",
            "9d03f9c4a9f54382810ff02561e98008",
            "e831731dede84568bdaaef6202373976",
            "fc6682cd54a54a8f85e22f83cde4802e",
            "7da1f1c252d8409ab07571dfc9fb4aea",
            "f702b6b2caaf4827b91472412defa98b",
            "d5cf8e8e514b428ab6e346187df73e8a",
            "1c37555cc0954f1fa68f0a13f3939570",
            "e3f9b86eb09f41bd8f045d41b549baa5",
            "129cbc91d60d42b9a16e0db93e88b8bb",
            "9f16378967b94fd68a9870f613b2cb70",
            "12957bf016314040a32f4bb209b66278",
            "98505972c5664adab0e372b980075ea6",
            "cbaeb713ca874026862e949333182beb",
            "382276fd12964e8b81fd11597ce215bf",
            "dd7144ced1ef4395a077e6edd56437df",
            "7969fbfdc6344c8fbfba45fcdbe045e1"
          ]
        },
        "outputId": "3ff00392-6387-401d-f2a8-e4fb1f0ae530"
      },
      "execution_count": null,
      "outputs": [
        {
          "output_type": "stream",
          "name": "stdout",
          "text": [
            "Downloading http://yann.lecun.com/exdb/mnist/train-images-idx3-ubyte.gz\n",
            "Downloading http://yann.lecun.com/exdb/mnist/train-images-idx3-ubyte.gz to ./MNIST/raw/train-images-idx3-ubyte.gz\n"
          ]
        },
        {
          "output_type": "display_data",
          "data": {
            "text/plain": [
              "  0%|          | 0/9912422 [00:00<?, ?it/s]"
            ],
            "application/vnd.jupyter.widget-view+json": {
              "version_major": 2,
              "version_minor": 0,
              "model_id": "55497eeee66f4029b19d736a42b6b390"
            }
          },
          "metadata": {}
        },
        {
          "output_type": "stream",
          "name": "stdout",
          "text": [
            "Extracting ./MNIST/raw/train-images-idx3-ubyte.gz to ./MNIST/raw\n",
            "\n",
            "Downloading http://yann.lecun.com/exdb/mnist/train-labels-idx1-ubyte.gz\n",
            "Downloading http://yann.lecun.com/exdb/mnist/train-labels-idx1-ubyte.gz to ./MNIST/raw/train-labels-idx1-ubyte.gz\n"
          ]
        },
        {
          "output_type": "display_data",
          "data": {
            "text/plain": [
              "  0%|          | 0/28881 [00:00<?, ?it/s]"
            ],
            "application/vnd.jupyter.widget-view+json": {
              "version_major": 2,
              "version_minor": 0,
              "model_id": "6e4a5630d41b45f3bafb42e6a0992b87"
            }
          },
          "metadata": {}
        },
        {
          "output_type": "stream",
          "name": "stdout",
          "text": [
            "Extracting ./MNIST/raw/train-labels-idx1-ubyte.gz to ./MNIST/raw\n",
            "\n",
            "Downloading http://yann.lecun.com/exdb/mnist/t10k-images-idx3-ubyte.gz\n",
            "Downloading http://yann.lecun.com/exdb/mnist/t10k-images-idx3-ubyte.gz to ./MNIST/raw/t10k-images-idx3-ubyte.gz\n"
          ]
        },
        {
          "output_type": "display_data",
          "data": {
            "text/plain": [
              "  0%|          | 0/1648877 [00:00<?, ?it/s]"
            ],
            "application/vnd.jupyter.widget-view+json": {
              "version_major": 2,
              "version_minor": 0,
              "model_id": "1a7d3a26ec0d4037a7847c79dfe24afe"
            }
          },
          "metadata": {}
        },
        {
          "output_type": "stream",
          "name": "stdout",
          "text": [
            "Extracting ./MNIST/raw/t10k-images-idx3-ubyte.gz to ./MNIST/raw\n",
            "\n",
            "Downloading http://yann.lecun.com/exdb/mnist/t10k-labels-idx1-ubyte.gz\n",
            "Downloading http://yann.lecun.com/exdb/mnist/t10k-labels-idx1-ubyte.gz to ./MNIST/raw/t10k-labels-idx1-ubyte.gz\n"
          ]
        },
        {
          "output_type": "display_data",
          "data": {
            "text/plain": [
              "  0%|          | 0/4542 [00:00<?, ?it/s]"
            ],
            "application/vnd.jupyter.widget-view+json": {
              "version_major": 2,
              "version_minor": 0,
              "model_id": "d5cf8e8e514b428ab6e346187df73e8a"
            }
          },
          "metadata": {}
        },
        {
          "output_type": "stream",
          "name": "stdout",
          "text": [
            "Extracting ./MNIST/raw/t10k-labels-idx1-ubyte.gz to ./MNIST/raw\n",
            "\n"
          ]
        }
      ]
    },
    {
      "cell_type": "code",
      "source": [
        "X_train = MNIST_train.train_data\n",
        "y_train = MNIST_train.train_labels\n",
        "X_test  = MNIST_test.test_data\n",
        "y_test  = MNIST_test.test_labels"
      ],
      "metadata": {
        "id": "0VpdNFL_WcAu",
        "colab": {
          "base_uri": "https://localhost:8080/"
        },
        "outputId": "1b8d8dae-cfe1-439f-8646-a5b96a0d3789"
      },
      "execution_count": null,
      "outputs": [
        {
          "output_type": "stream",
          "name": "stderr",
          "text": [
            "/usr/local/lib/python3.7/dist-packages/torchvision/datasets/mnist.py:75: UserWarning: train_data has been renamed data\n",
            "  warnings.warn(\"train_data has been renamed data\")\n",
            "/usr/local/lib/python3.7/dist-packages/torchvision/datasets/mnist.py:65: UserWarning: train_labels has been renamed targets\n",
            "  warnings.warn(\"train_labels has been renamed targets\")\n",
            "/usr/local/lib/python3.7/dist-packages/torchvision/datasets/mnist.py:80: UserWarning: test_data has been renamed data\n",
            "  warnings.warn(\"test_data has been renamed data\")\n",
            "/usr/local/lib/python3.7/dist-packages/torchvision/datasets/mnist.py:70: UserWarning: test_labels has been renamed targets\n",
            "  warnings.warn(\"test_labels has been renamed targets\")\n"
          ]
        }
      ]
    },
    {
      "cell_type": "code",
      "source": [
        "X_train.dtype, y_train.dtype"
      ],
      "metadata": {
        "colab": {
          "base_uri": "https://localhost:8080/"
        },
        "id": "eLw1_iJ__gHN",
        "outputId": "9e91c226-0f00-4da2-a40b-240b97aa06f0"
      },
      "execution_count": null,
      "outputs": [
        {
          "output_type": "execute_result",
          "data": {
            "text/plain": [
              "(torch.uint8, torch.int64)"
            ]
          },
          "metadata": {},
          "execution_count": 7
        }
      ]
    },
    {
      "cell_type": "code",
      "source": [
        "X_train = X_train.unsqueeze(1).float()\n",
        "X_test = X_test.unsqueeze(1).float()"
      ],
      "metadata": {
        "id": "h4xFZKc2_mBy"
      },
      "execution_count": null,
      "outputs": []
    },
    {
      "cell_type": "code",
      "source": [
        "X_train.shape, X_test.shape"
      ],
      "metadata": {
        "colab": {
          "base_uri": "https://localhost:8080/"
        },
        "id": "OqhD1snq_wRQ",
        "outputId": "209dfcc5-b938-46c0-df05-6f8c400b64db"
      },
      "execution_count": null,
      "outputs": [
        {
          "output_type": "execute_result",
          "data": {
            "text/plain": [
              "(torch.Size([60000, 1, 28, 28]), torch.Size([10000, 1, 28, 28]))"
            ]
          },
          "metadata": {},
          "execution_count": 9
        }
      ]
    },
    {
      "cell_type": "code",
      "source": [
        "y_train.shape, y_test.shape"
      ],
      "metadata": {
        "colab": {
          "base_uri": "https://localhost:8080/"
        },
        "id": "1Egn2QdL_2f5",
        "outputId": "1cda96c2-ebb6-44bd-b369-593ba97e0ec8"
      },
      "execution_count": null,
      "outputs": [
        {
          "output_type": "execute_result",
          "data": {
            "text/plain": [
              "(torch.Size([60000]), torch.Size([10000]))"
            ]
          },
          "metadata": {},
          "execution_count": 10
        }
      ]
    },
    {
      "cell_type": "code",
      "source": [
        "plt.imshow(X_train[0, 0, :, :])\n",
        "plt.show()\n",
        "print(y_train[0])"
      ],
      "metadata": {
        "colab": {
          "base_uri": "https://localhost:8080/",
          "height": 337
        },
        "id": "VXkXtYzs_-yo",
        "outputId": "02393853-c643-4d61-b125-1f225d258f4a"
      },
      "execution_count": null,
      "outputs": [
        {
          "output_type": "display_data",
          "data": {
            "text/plain": [
              "<Figure size 936x360 with 1 Axes>"
            ],
            "image/png": "[encoded data removed]"
          },
          "metadata": {
            "needs_background": "light"
          }
        },
        {
          "output_type": "stream",
          "name": "stdout",
          "text": [
            "tensor(5)\n"
          ]
        }
      ]
    },
    {
      "cell_type": "markdown",
      "source": [
        "## Model construction"
      ],
      "metadata": {
        "id": "tgXa7VHB-ST8"
      }
    },
    {
      "cell_type": "code",
      "source": [
        "class LeNet5(torch.nn.Module):\n",
        "  def __init__(self,\n",
        "               activation='tahn',\n",
        "               pooling='avg',\n",
        "               conv_size=5,\n",
        "               use_batch_norm=False):\n",
        "    super(LeNet5, self).__init__()\n",
        "\n",
        "    self.conv_size = conv_size\n",
        "    self.use_batch_norm = use_batch_norm\n",
        "\n",
        "    if activation == 'tanh':\n",
        "      activation_function = torch.nn.Tanh()\n",
        "    elif activation == 'relu':\n",
        "      activation_function = torch.nn.ReLU()\n",
        "    else:\n",
        "      raise NotImplementedError\n",
        "    \n",
        "    if pooling == 'avg':\n",
        "      pooling_layer = torch.nn.AvgPool2d(kernel_size=2, stride=2)\n",
        "    elif pooling == 'max':\n",
        "      pooling_layer = torch.nn.MaxPool2d(kernel_size=2, stride=2)\n",
        "    else:\n",
        "      raise NotImplementedError\n",
        "\n",
        "    if conv_size == 5:\n",
        "      self.conv1 = torch.nn.Conv2d(\n",
        "          in_channels=1, out_channels=6, kernel_size=5, padding=2)\n",
        "    elif conv_size == 3:\n",
        "      self.conv1_1 = torch.nn.Conv2d(\n",
        "          in_channels=1, out_channels=6, kernel_size=3, padding=1)\n",
        "      self.conv1_2 = torch.nn.Conv2d(\n",
        "          in_channels=6, out_channels=6, kernel_size=3, padding=1)\n",
        "    else:\n",
        "      raise NotImplementedError\n",
        "\n",
        "    self.act1  = activation_function\n",
        "    self.bn1   = torch.nn.BatchNorm2d(num_features=6)\n",
        "    self.pool1 = pooling_layer\n",
        "\n",
        "    if conv_size == 5:\n",
        "      self.conv2 = torch.nn.Conv2d(\n",
        "          in_channels=6, out_channels=16, kernel_size=5, padding=0)\n",
        "    elif conv_size == 3:\n",
        "      self.conv2_1 = torch.nn.Conv2d(\n",
        "          in_channels=6, out_channels=16, kernel_size=3, padding=0)\n",
        "      self.conv2_2 = torch.nn.Conv2d(\n",
        "          in_channels=16, out_channels=16, kernel_size=3, padding=0)\n",
        "    else:\n",
        "      raise NotImplementedError\n",
        "\n",
        "    self.act2  = activation_function\n",
        "    self.bn2   = torch.nn.BatchNorm2d(num_features=16)\n",
        "    self.pool2 = pooling_layer\n",
        "\n",
        "    self.fc1   = torch.nn.Linear(5 * 5 * 16, 120)\n",
        "    self.act3  = activation_function\n",
        "\n",
        "    self.fc2   = torch.nn.Linear(120, 84)\n",
        "    self.act4  = activation_function\n",
        "\n",
        "    self.fc3   = torch.nn.Linear(84, 10)\n",
        "  \n",
        "  def forward(self, x):\n",
        "    if self.conv_size == 5:\n",
        "      x = self.conv1(x)\n",
        "    elif self.conv_size == 3:\n",
        "      x = self.conv1_2(self.conv1_1(x))\n",
        "    x = self.act1(x)\n",
        "    if self.use_batch_norm:\n",
        "      x = self.bn1(x)\n",
        "    x = self.pool1(x)\n",
        "\n",
        "    if self.conv_size == 5:\n",
        "      x = self.conv2(x)\n",
        "    elif self.conv_size == 3:\n",
        "      x = self.conv2_2(self.conv2_1(x))\n",
        "    x = self.act2(x)\n",
        "    if self.use_batch_norm:\n",
        "      x = self.bn2(x)\n",
        "    x = self.pool2(x)\n",
        "\n",
        "    x = x.view(x.size(0), x.size(1) * x.size(2) * x.size(3))\n",
        "    x = self.fc1(x)\n",
        "    x = self.act3(x)\n",
        "    x = self.fc2(x)\n",
        "    x = self.act4(x)\n",
        "    x = self.fc3(x)\n",
        "\n",
        "    return x"
      ],
      "metadata": {
        "id": "9mZAk_wgfXGE"
      },
      "execution_count": null,
      "outputs": []
    },
    {
      "cell_type": "markdown",
      "source": [
        "## Training procedure"
      ],
      "metadata": {
        "id": "A1Wp8whtAMdH"
      }
    },
    {
      "cell_type": "code",
      "source": [
        "def train(net, X_train, y_train, X_test, y_test):\n",
        "  net = net.to(device)\n",
        "  loss = torch.nn.CrossEntropyLoss()\n",
        "  optimizer = torch.optim.Adam(net.parameters(), lr=1.0e-3)\n",
        "\n",
        "  batch_size = 100\n",
        "\n",
        "  test_accuracy_history = []\n",
        "  test_loss_history = []\n",
        "\n",
        "  X_test = X_test.to(device)\n",
        "  y_test = y_test.to(device)\n",
        "\n",
        "  for epoch in range(30):\n",
        "    order = np.random.permutation(len(X_train))\n",
        "\n",
        "    for start_index in range(0, len(X_train), batch_size):\n",
        "      optimizer.zero_grad()\n",
        "      net.train()\n",
        "\n",
        "      batch_indexes = order[start_index:start_index+batch_size]\n",
        "\n",
        "      X_batch = X_train[batch_indexes].to(device)\n",
        "      y_batch = y_train[batch_indexes].to(device)\n",
        "\n",
        "      preds = net.forward(X_batch)\n",
        "      \n",
        "      loss_value = loss(preds, y_batch)\n",
        "      loss_value.backward()\n",
        "      \n",
        "      optimizer.step()\n",
        "\n",
        "    net.eval()\n",
        "    test_preds = net.forward(X_test)\n",
        "    test_loss_history.append(loss(test_preds, y_test).data.cpu())\n",
        "\n",
        "    accuracy = (test_preds.argmax(dim=1) == y_test).float().mean().data.cpu()\n",
        "    test_accuracy_history.append(accuracy)\n",
        "    print(accuracy)\n",
        "  print('---------------')\n",
        "  return test_accuracy_history, test_loss_history"
      ],
      "metadata": {
        "id": "Nm7vNt60APb0"
      },
      "execution_count": null,
      "outputs": []
    },
    {
      "cell_type": "code",
      "source": [
        "accuracies = {}\n",
        "losses = {}\n",
        "\n",
        "accuracies['tanh'], losses['tanh'] = \\\n",
        "  train(LeNet5(activation='tanh', conv_size=5),\n",
        "    X_train, y_train, X_test, y_test)\n",
        "\n",
        "accuracies['relu'], losses['relu'] = \\\n",
        "  train(LeNet5(activation='relu', conv_size=5),\n",
        "    X_train, y_train, X_test, y_test)\n",
        "\n",
        "accuracies['relu_3'], losses['relu_3'] = \\\n",
        "  train(LeNet5(activation='relu', conv_size=3),\n",
        "    X_train, y_train, X_test, y_test)\n",
        "\n",
        "accuracies['relu_3_max_pool'], losses['relu_3_max_pool'] = \\\n",
        "  train(LeNet5(activation='relu', conv_size=3, pooling='max'), \n",
        "    X_train, y_train, X_test, y_test)\n",
        "\n",
        "accuracies['relu_3_max_pool_bn'], losses['relu_3_max_pool_bn'] = \\\n",
        "  train(LeNet5(activation='relu', conv_size=3, pooling='max', use_batch_norm=True), \n",
        "    X_train, y_train, X_test, y_test)"
      ],
      "metadata": {
        "colab": {
          "base_uri": "https://localhost:8080/"
        },
        "id": "ilEhuD1Tb894",
        "outputId": "402034a0-6500-45a7-ce41-bf8f7e5ac1e7"
      },
      "execution_count": null,
      "outputs": [
        {
          "output_type": "stream",
          "name": "stdout",
          "text": [
            "tensor(0.9799)\n",
            "tensor(0.9846)\n",
            "tensor(0.9860)\n",
            "tensor(0.9876)\n",
            "tensor(0.9898)\n",
            "tensor(0.9888)\n",
            "tensor(0.9892)\n",
            "tensor(0.9885)\n",
            "tensor(0.9897)\n",
            "tensor(0.9880)\n",
            "tensor(0.9884)\n",
            "tensor(0.9898)\n",
            "tensor(0.9897)\n",
            "tensor(0.9891)\n",
            "tensor(0.9877)\n",
            "tensor(0.9903)\n",
            "tensor(0.9893)\n",
            "tensor(0.9882)\n",
            "tensor(0.9906)\n",
            "tensor(0.9881)\n",
            "tensor(0.9873)\n",
            "tensor(0.9881)\n",
            "tensor(0.9889)\n",
            "tensor(0.9875)\n",
            "tensor(0.9843)\n",
            "tensor(0.9898)\n",
            "tensor(0.9883)\n",
            "tensor(0.9886)\n",
            "tensor(0.9870)\n",
            "tensor(0.9875)\n",
            "---------------\n",
            "tensor(0.9819)\n",
            "tensor(0.9866)\n",
            "tensor(0.9886)\n",
            "tensor(0.9896)\n",
            "tensor(0.9892)\n",
            "tensor(0.9883)\n",
            "tensor(0.9899)\n",
            "tensor(0.9898)\n",
            "tensor(0.9888)\n",
            "tensor(0.9920)\n",
            "tensor(0.9877)\n",
            "tensor(0.9904)\n",
            "tensor(0.9910)\n",
            "tensor(0.9856)\n",
            "tensor(0.9914)\n",
            "tensor(0.9913)\n",
            "tensor(0.9875)\n",
            "tensor(0.9902)\n",
            "tensor(0.9910)\n",
            "tensor(0.9914)\n",
            "tensor(0.9897)\n",
            "tensor(0.9899)\n",
            "tensor(0.9901)\n",
            "tensor(0.9888)\n",
            "tensor(0.9893)\n",
            "tensor(0.9891)\n",
            "tensor(0.9910)\n",
            "tensor(0.9898)\n",
            "tensor(0.9896)\n",
            "tensor(0.9918)\n",
            "---------------\n",
            "tensor(0.9802)\n",
            "tensor(0.9865)\n",
            "tensor(0.9819)\n",
            "tensor(0.9803)\n",
            "tensor(0.9868)\n",
            "tensor(0.9888)\n",
            "tensor(0.9905)\n",
            "tensor(0.9885)\n",
            "tensor(0.9907)\n",
            "tensor(0.9906)\n",
            "tensor(0.9877)\n",
            "tensor(0.9900)\n",
            "tensor(0.9904)\n",
            "tensor(0.9885)\n",
            "tensor(0.9888)\n",
            "tensor(0.9907)\n",
            "tensor(0.9883)\n",
            "tensor(0.9914)\n",
            "tensor(0.9912)\n",
            "tensor(0.9890)\n",
            "tensor(0.9895)\n",
            "tensor(0.9905)\n",
            "tensor(0.9897)\n",
            "tensor(0.9882)\n",
            "tensor(0.9873)\n",
            "tensor(0.9888)\n",
            "tensor(0.9890)\n",
            "tensor(0.9914)\n",
            "tensor(0.9887)\n",
            "tensor(0.9900)\n",
            "---------------\n",
            "tensor(0.9780)\n",
            "tensor(0.9858)\n",
            "tensor(0.9831)\n",
            "tensor(0.9897)\n",
            "tensor(0.9860)\n",
            "tensor(0.9889)\n",
            "tensor(0.9872)\n",
            "tensor(0.9899)\n",
            "tensor(0.9844)\n",
            "tensor(0.9891)\n",
            "tensor(0.9856)\n",
            "tensor(0.9889)\n",
            "tensor(0.9889)\n",
            "tensor(0.9881)\n",
            "tensor(0.9901)\n",
            "tensor(0.9901)\n",
            "tensor(0.9906)\n",
            "tensor(0.9894)\n",
            "tensor(0.9901)\n",
            "tensor(0.9900)\n",
            "tensor(0.9898)\n",
            "tensor(0.9917)\n",
            "tensor(0.9888)\n",
            "tensor(0.9874)\n",
            "tensor(0.9871)\n",
            "tensor(0.9889)\n",
            "tensor(0.9870)\n",
            "tensor(0.9909)\n",
            "tensor(0.9877)\n",
            "tensor(0.9893)\n",
            "---------------\n",
            "tensor(0.9865)\n",
            "tensor(0.9855)\n",
            "tensor(0.9875)\n",
            "tensor(0.9909)\n",
            "tensor(0.9884)\n",
            "tensor(0.9908)\n",
            "tensor(0.9856)\n",
            "tensor(0.9886)\n",
            "tensor(0.9898)\n",
            "tensor(0.9902)\n",
            "tensor(0.9863)\n",
            "tensor(0.9901)\n",
            "tensor(0.9891)\n",
            "tensor(0.9901)\n",
            "tensor(0.9896)\n",
            "tensor(0.9907)\n",
            "tensor(0.9919)\n",
            "tensor(0.9910)\n",
            "tensor(0.9919)\n",
            "tensor(0.9912)\n",
            "tensor(0.9908)\n",
            "tensor(0.9906)\n",
            "tensor(0.9906)\n",
            "tensor(0.9923)\n",
            "tensor(0.9915)\n",
            "tensor(0.9922)\n",
            "tensor(0.9890)\n",
            "tensor(0.9919)\n",
            "tensor(0.9913)\n",
            "tensor(0.9892)\n",
            "---------------\n"
          ]
        }
      ]
    },
    {
      "cell_type": "markdown",
      "source": [
        "## Visualizing"
      ],
      "metadata": {
        "id": "a8nnsJacaHtm"
      }
    },
    {
      "cell_type": "code",
      "source": [
        "for experiment_id in accuracies.keys():\n",
        "  plt.plot(accuracies[experiment_id], label=experiment_id)\n",
        "plt.legend()\n",
        "plt.title('Validation Accuracy')"
      ],
      "metadata": {
        "colab": {
          "base_uri": "https://localhost:8080/"
        },
        "id": "AV6oZ2aBaA4H",
        "outputId": "00d615ac-eb6e-49de-b6a0-9ef61a79dc6c"
      },
      "execution_count": null,
      "outputs": [
        {
          "output_type": "execute_result",
          "data": {
            "text/plain": [
              "Text(0.5, 1.0, 'Validation Accuracy')"
            ]
          },
          "metadata": {},
          "execution_count": 22
        },
        {
          "output_type": "display_data",
          "data": {
            "text/plain": [
              "<Figure size 936x360 with 1 Axes>"
            ],
            "image/png": "[encoded data removed]"
          },
          "metadata": {
            "needs_background": "light"
          }
        }
      ]
    },
    {
      "cell_type": "code",
      "source": [
        "with torch.no_grad():\n",
        "  for experiment_id in losses.keys():\n",
        "    plt.plot(losses[experiment_id], label=experiment_id)\n",
        "  plt.legend()\n",
        "  plt.title('Validation Loss')"
      ],
      "metadata": {
        "colab": {
          "base_uri": "https://localhost:8080/",
          "height": 54
        },
        "id": "Q_Bmy9QqEJTb",
        "outputId": "b663bb6f-e792-4ba2-c54a-e51825aa6613"
      },
      "execution_count": null,
      "outputs": [
        {
          "output_type": "display_data",
          "data": {
            "text/plain": [
              "<Figure size 936x360 with 1 Axes>"
            ],
            "image/png": "[encoded data removed]"
          },
          "metadata": {
            "needs_background": "light"
          }
        }
      ]
    }
  ]
}